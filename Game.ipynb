{
 "cells": [
  {
   "cell_type": "code",
   "execution_count": 1,
   "metadata": {},
   "outputs": [],
   "source": [
    "import random\n",
    "import time"
   ]
  },
  {
   "cell_type": "code",
   "execution_count": 7,
   "metadata": {},
   "outputs": [
    {
     "name": "stdout",
     "output_type": "stream",
     "text": [
      "Welcome to the number guessing game :)\n",
      "please try to guess the number5\n",
      "Just a second...\n",
      "Guess a bigger number pls...\n",
      "number of remaining rights 4\n",
      "please try to guess the number55\n",
      "Just a second...\n",
      "Guess a bigger number pls...\n",
      "number of remaining rights 3\n",
      "please try to guess the number99\n",
      "Just a second...\n",
      "Guess a smaller number pls...\n",
      "number of remaining rights 2\n",
      "please try to guess the number33\n",
      "Just a second...\n",
      "Guess a bigger number pls...\n",
      "number of remaining rights 1\n",
      "please try to guess the number73\n",
      "Just a second...\n",
      "Guess a bigger number pls...\n",
      "number of remaining rights 0\n",
      "number of remaining rights 0\n",
      "your right is over\n",
      "the number the computer has kept 96\n"
     ]
    }
   ],
   "source": [
    "print(\"Welcome to the number guessing game :)\")\n",
    "number = random.randint(1,100)\n",
    "guess_right = 5\n",
    "\n",
    "while True:\n",
    "    guess=int(input(\"please try to guess the number\"))\n",
    "    \n",
    "    if guess==number:\n",
    "        print(\"Just a second...\")\n",
    "        time.sleep(5)\n",
    "        print(\"congratulations. You win\")\n",
    "        \n",
    "    elif guess>number:\n",
    "            print(\"Just a second...\")\n",
    "            time.sleep(5)\n",
    "            guess_right -=1\n",
    "            print(\"Guess a smaller number pls...\")\n",
    "            print(\"number of remaining rights\",guess_right)\n",
    "            \n",
    "    else :\n",
    "        guess<number\n",
    "        print(\"Just a second...\")\n",
    "        time.sleep(5)\n",
    "        guess_right -=1\n",
    "        print(\"Guess a bigger number pls...\")\n",
    "        print(\"number of remaining rights\",guess_right)\n",
    "            \n",
    "    if guess_right ==0:\n",
    "        print(\"number of remaining rights\",guess_right)\n",
    "        print(\"your right is over\")\n",
    "        print(\"the number the computer has kept\",number)\n",
    "        break\n",
    "            \n",
    "        \n",
    "    "
   ]
  },
  {
   "cell_type": "code",
   "execution_count": null,
   "metadata": {},
   "outputs": [],
   "source": []
  }
 ],
 "metadata": {
  "kernelspec": {
   "display_name": "Python 3",
   "language": "python",
   "name": "python3"
  },
  "language_info": {
   "codemirror_mode": {
    "name": "ipython",
    "version": 3
   },
   "file_extension": ".py",
   "mimetype": "text/x-python",
   "name": "python",
   "nbconvert_exporter": "python",
   "pygments_lexer": "ipython3",
   "version": "3.7.6"
  }
 },
 "nbformat": 4,
 "nbformat_minor": 4
}
