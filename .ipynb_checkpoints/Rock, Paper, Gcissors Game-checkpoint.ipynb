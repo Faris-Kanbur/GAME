{
 "cells": [
  {
   "cell_type": "code",
   "execution_count": null,
   "metadata": {},
   "outputs": [],
   "source": [
    "import random\n",
    "secenek=[\"taş\",\"kağıt\",\"makas\"]\n",
    "taş=secenek[0]\n",
    "kağıt=secenek[1]\n",
    "makas=secenek[2]\n",
    "print(\"Taş,Kağıt, Makas oyununa hoş geldinizn Oyunu bitirmek için q tuşuna basın\")\n",
    "while True:\n",
    "    secim = input(\"Taş mı kağıt mı makas mı? \")\n",
    "    bil_secim = random.choice(secenek)\n",
    "    if secim==taş:\n",
    "        if bil_secim==taş:\n",
    "            print(\"Bilgisayarın seçimi: Taşn Sonuç: Berabere\")\n",
    "        elif bil_secim==kağıt:\n",
    "            print(\"Bilgisayarın seçimi: Kağıtn Kaybettiniz\")\n",
    "        else:\n",
    "            print(\"Bilgisayarın seçimi: makasn Sonuç:Kazandınız\")\n",
    "    if secim==kağıt:\n",
    "        if bil_secim==taş:\n",
    "            print(\"Bilgisayarın seçimi: Taşn Sonuç: Kazandınız\")\n",
    "        elif bil_secim==kağıt:\n",
    "            print(\"Bilgisayarın seçimi: Kağıtn Sonuç: Berabere\")\n",
    "        else:\n",
    "            print(\"Bilgisayarın seçimi: makasn Sonuç:Kaybettiniz\")\n",
    "    if secim==makas:\n",
    "        if bil_secim==taş:\n",
    "            print(\"Bilgisayarın seçimi: Taşn Sonuç: Kaybettiniz\")\n",
    "        elif bil_secim==kağıt:\n",
    "            print(\"Bilgisayarın seçimi: Kağıtn Sonuç: Kazandınız\")\n",
    "        else:\n",
    "            print(\"Bilgisayarın seçimi: makasn Sonuç:Berabere\")\n",
    "        if secim=='q':\n",
    "            print(\"Çıkılıyor...\")\n",
    "            break"
   ]
  },
  {
   "cell_type": "code",
   "execution_count": null,
   "metadata": {},
   "outputs": [],
   "source": []
  },
  {
   "cell_type": "code",
   "execution_count": null,
   "metadata": {},
   "outputs": [],
   "source": []
  },
  {
   "cell_type": "code",
   "execution_count": null,
   "metadata": {},
   "outputs": [],
   "source": []
  },
  {
   "cell_type": "code",
   "execution_count": null,
   "metadata": {},
   "outputs": [],
   "source": []
  },
  {
   "cell_type": "code",
   "execution_count": null,
   "metadata": {},
   "outputs": [],
   "source": []
  },
  {
   "cell_type": "code",
   "execution_count": null,
   "metadata": {},
   "outputs": [],
   "source": []
  },
  {
   "cell_type": "code",
   "execution_count": null,
   "metadata": {},
   "outputs": [],
   "source": []
  },
  {
   "cell_type": "code",
   "execution_count": null,
   "metadata": {},
   "outputs": [],
   "source": []
  },
  {
   "cell_type": "code",
   "execution_count": null,
   "metadata": {},
   "outputs": [],
   "source": []
  },
  {
   "cell_type": "code",
   "execution_count": null,
   "metadata": {},
   "outputs": [],
   "source": []
  },
  {
   "cell_type": "code",
   "execution_count": null,
   "metadata": {},
   "outputs": [],
   "source": []
  },
  {
   "cell_type": "code",
   "execution_count": null,
   "metadata": {},
   "outputs": [],
   "source": []
  },
  {
   "cell_type": "code",
   "execution_count": null,
   "metadata": {},
   "outputs": [],
   "source": []
  },
  {
   "cell_type": "code",
   "execution_count": null,
   "metadata": {},
   "outputs": [],
   "source": []
  },
  {
   "cell_type": "code",
   "execution_count": null,
   "metadata": {},
   "outputs": [],
   "source": []
  },
  {
   "cell_type": "code",
   "execution_count": null,
   "metadata": {},
   "outputs": [],
   "source": []
  },
  {
   "cell_type": "code",
   "execution_count": null,
   "metadata": {},
   "outputs": [],
   "source": []
  },
  {
   "cell_type": "code",
   "execution_count": null,
   "metadata": {},
   "outputs": [],
   "source": []
  },
  {
   "cell_type": "code",
   "execution_count": null,
   "metadata": {},
   "outputs": [],
   "source": []
  },
  {
   "cell_type": "code",
   "execution_count": null,
   "metadata": {},
   "outputs": [],
   "source": []
  }
 ],
 "metadata": {
  "kernelspec": {
   "display_name": "Python 3",
   "language": "python",
   "name": "python3"
  },
  "language_info": {
   "codemirror_mode": {
    "name": "ipython",
    "version": 3
   },
   "file_extension": ".py",
   "mimetype": "text/x-python",
   "name": "python",
   "nbconvert_exporter": "python",
   "pygments_lexer": "ipython3",
   "version": "3.7.6"
  }
 },
 "nbformat": 4,
 "nbformat_minor": 4
}
